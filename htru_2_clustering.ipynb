{
 "cells": [
  {
   "cell_type": "markdown",
   "metadata": {},
   "source": [
    "- [How to select a clustering method?](https://stats.stackexchange.com/questions/195456/how-to-select-a-clustering-method-how-to-validate-a-cluster-solution-to-warran)\n",
    "- [What is a good way to choose initial points of k clusters in k-means clustering?](https://www.quora.com/What-is-a-good-way-to-choose-initial-points-of-k-clusters-in-k-means-clustering)\n",
    "- [Robust seed selection algorithm for k-means type algorithms (2012)](https://arxiv.org/abs/1202.1585)"
   ]
  },
  {
   "cell_type": "code",
   "execution_count": 1,
   "metadata": {},
   "outputs": [
    {
     "name": "stdout",
     "output_type": "stream",
     "text": [
      "File exist! skip download\n",
      "Files already extracted\n"
     ]
    }
   ],
   "source": [
    "%matplotlib inline\n",
    "\n",
    "import matplotlib\n",
    "matplotlib.rcParams['figure.figsize'] = (20.0, 10.0)\n",
    "import matplotlib.pyplot as plt\n",
    "import numpy as np\n",
    "import pandas as pd\n",
    "from sklearn import metrics\n",
    "from sklearn.model_selection import KFold\n",
    "import seaborn as sns\n",
    "import plotly.plotly as py\n",
    "import plotly.graph_objs as go\n",
    "import plotly.figure_factory as ff\n",
    "# set defualt  size for plotting\n",
    "\n",
    "\n",
    "\n",
    "import dataset\n",
    "dataset.prepare_dataset('data')"
   ]
  },
  {
   "cell_type": "code",
   "execution_count": 2,
   "metadata": {},
   "outputs": [
    {
     "name": "stdout",
     "output_type": "stream",
     "text": [
      "                 a1            a2            a3            a4            a5  \\\n",
      "count  17898.000000  17898.000000  17898.000000  17898.000000  17898.000000   \n",
      "mean     111.079968     46.549532      0.477857      1.770279     12.614400   \n",
      "std       25.652935      6.843189      1.064040      6.167913     29.472897   \n",
      "min        5.812500     24.772042     -1.876011     -1.791886      0.213211   \n",
      "25%      100.929688     42.376018      0.027098     -0.188572      1.923077   \n",
      "50%      115.078125     46.947479      0.223240      0.198710      2.801839   \n",
      "75%      127.085938     51.023202      0.473325      0.927783      5.464256   \n",
      "max      192.617188     98.778911      8.069522     68.101622    223.392140   \n",
      "\n",
      "                 a6            a7            a8         label  \n",
      "count  17898.000000  17898.000000  17898.000000  17898.000000  \n",
      "mean      26.326515      8.303556    104.857709      0.091574  \n",
      "std       19.470572      4.506092    106.514540      0.288432  \n",
      "min        7.370432     -3.139270     -1.976976      0.000000  \n",
      "25%       14.437332      5.781506     34.960504      0.000000  \n",
      "50%       18.461316      8.433515     83.064556      0.000000  \n",
      "75%       28.428104     10.702959    139.309331      0.000000  \n",
      "max      110.642211     34.539844   1191.000837      1.000000  \n"
     ]
    },
    {
     "data": {
      "text/plain": [
       "<matplotlib.axes._subplots.AxesSubplot at 0x27b3aefb208>"
      ]
     },
     "execution_count": 2,
     "metadata": {},
     "output_type": "execute_result"
    },
    {
     "data": {
      "image/png": "[encoded data removed]",
      "text/plain": [
       "<Figure size 432x288 with 1 Axes>"
      ]
     },
     "metadata": {},
     "output_type": "display_data"
    }
   ],
   "source": [
    "df = pd.read_csv('data/HTRU_2.csv', header=None, names=['a1', 'a2', 'a3', 'a4', 'a5', 'a6', 'a7', 'a8', 'label'])\n",
    "df_wo_class = df.drop(columns=['label'])\n",
    "\n",
    "print(df.describe())\n",
    "sns.boxplot(data=df)"
   ]
  },
  {
   "cell_type": "code",
   "execution_count": 3,
   "metadata": {},
   "outputs": [],
   "source": [
    "class StandardScaler(object):\n",
    "    def fit(self, X):\n",
    "        self.mean = X.mean()\n",
    "        size = X.shape[0]\n",
    "        self.mean_absolute_deviation = np.abs(X - self.mean).sum() / size\n",
    "        return self\n",
    "    \n",
    "    def transform(self, X):\n",
    "        return (X - self.mean) / self.mean_absolute_deviation\n",
    "\n",
    "    def fit_transform(self, X):\n",
    "        self.fit(X)\n",
    "        return self.transform(X)\n",
    "\n",
    "class AbsoluteLogScaler(object):\n",
    "    def fit(self, X):\n",
    "        return self\n",
    "        \n",
    "    def transform(self, X):\n",
    "        def abs_log(value):\n",
    "            return np.log2(value) if value >= 0 else -np.log2(-value)\n",
    "        \n",
    "        return X * 3\n",
    "\n",
    "    def fit_transform(self, X):\n",
    "        self.fit(X)\n",
    "        return self.transform(X)"
   ]
  },
  {
   "cell_type": "code",
   "execution_count": 4,
   "metadata": {},
   "outputs": [
    {
     "data": {
      "text/plain": [
       "<matplotlib.axes._subplots.AxesSubplot at 0x27b3b1f2c88>"
      ]
     },
     "execution_count": 4,
     "metadata": {},
     "output_type": "execute_result"
    },
    {
     "data": {
      "image/png": "[encoded data removed]",
      "text/plain": [
       "<Figure size 432x288 with 1 Axes>"
      ]
     },
     "metadata": {},
     "output_type": "display_data"
    }
   ],
   "source": [
    "class DataProcessor(object):\n",
    "    def fit(self, dataframe):\n",
    "        self.a1 = StandardScaler().fit(dataframe.a1)\n",
    "        self.a2 = StandardScaler().fit(dataframe.a2)\n",
    "        self.a3 = StandardScaler().fit(dataframe.a3)\n",
    "        self.a4 = StandardScaler().fit(dataframe.a4)\n",
    "        self.a5 = StandardScaler().fit(dataframe.a5)\n",
    "        self.a6 = StandardScaler().fit(dataframe.a6)\n",
    "        self.a7 = StandardScaler().fit(dataframe.a7)\n",
    "        self.a8_1 = AbsoluteLogScaler().fit(dataframe.a8)\n",
    "        self.a8_2 = StandardScaler().fit(self.a8_1.transform(dataframe.a8))\n",
    "        \n",
    "    def transform(self, dataframe):\n",
    "        dataframe = dataframe.copy()\n",
    "        \n",
    "        dataframe.a1 = self.a1.transform(dataframe.a1)\n",
    "        dataframe.a2 = self.a2.transform(dataframe.a2)\n",
    "        dataframe.a3 = self.a3.transform(dataframe.a3)\n",
    "        dataframe.a4 = self.a4.transform(dataframe.a4)\n",
    "        dataframe.a5 = self.a5.transform(dataframe.a5)\n",
    "        dataframe.a6 = self.a6.transform(dataframe.a6)\n",
    "        dataframe.a7 = self.a7.transform(dataframe.a7)\n",
    "        dataframe.a8 = self.a8_2.transform(self.a8_1.transform(dataframe.a8))\n",
    "        \n",
    "        return dataframe\n",
    "    \n",
    "    def fit_transform(self, X):\n",
    "        self.fit(X)\n",
    "        return self.transform(X)\n",
    "        \n",
    "p = DataProcessor()\n",
    "df_clean = p.fit_transform(df)\n",
    "df_clean = df_clean.drop(columns=['label'])\n",
    "sns.violinplot(data=df_clean)"
   ]
  },
  {
   "cell_type": "code",
   "execution_count": 5,
   "metadata": {},
   "outputs": [
    {
     "data": {
      "text/plain": [
       "<matplotlib.axes._subplots.AxesSubplot at 0x27b3b253b38>"
      ]
     },
     "execution_count": 5,
     "metadata": {},
     "output_type": "execute_result"
    },
    {
     "data": {
      "image/png": "[encoded data removed]",
      "text/plain": [
       "<Figure size 432x288 with 2 Axes>"
      ]
     },
     "metadata": {},
     "output_type": "display_data"
    }
   ],
   "source": [
    "corelation = df_clean.corr()\n",
    "sns.heatmap(corelation, square=True, annot=True)"
   ]
  },
  {
   "cell_type": "code",
   "execution_count": 14,
   "metadata": {},
   "outputs": [
    {
     "name": "stdout",
     "output_type": "stream",
     "text": [
      "init clusters\n",
      " - First cluster center:[ 0.16954884  0.06491949 -0.47717165 -0.65346259 -0.63931725 -0.55713695\n",
      "  0.28386431 -0.14565274]\n",
      " - distance to nearest controid: [0.37450423 0.52135904 0.65467247 ... 1.1540801  0.29381317 1.54311412]\n",
      " - y = 2741.6835900117703\n",
      " - Sum d = 12102.773913390873\n",
      " - Next cluster index: 3887\n",
      "end init clusters: [[ 0.16954884  0.06491949 -0.47717165 -0.65346259 -0.63931725 -0.55713695\n",
      "   0.28386431 -0.14565274]\n",
      " [ 1.50760879  1.1450391  -1.20256455 -0.73772123 -0.47206094  0.08664838\n",
      "  -0.60050287 -0.87253438]]\n",
      "iteration    0\n",
      " - update costs: [0.30345047 0.86258315]\n",
      " - optimal: False\n",
      "iteration    1\n",
      " - update costs: [0.04026797 0.04026797]\n",
      " - optimal: False\n",
      "iteration    2\n",
      " - update costs: [0.00852623 0.00852623]\n",
      " - optimal: False\n",
      "iteration    3\n",
      " - update costs: [0.00183995 0.00183995]\n",
      " - optimal: False\n",
      "iteration    4\n",
      " - update costs: [0.00041186 0.00041186]\n",
      " - optimal: False\n",
      "iteration    5\n",
      " - update costs: [7.88226269e-05 7.88226269e-05]\n",
      " - optimal: True\n"
     ]
    }
   ],
   "source": [
    "from sklearn.metrics.pairwise import pairwise_distances\n",
    "from copy import deepcopy\n",
    "\n",
    "def distance(n_root):\n",
    "    def d(i, j):\n",
    "        return  np.sum(np.abs(i - j) ** n_root) ** (1/n_root)\n",
    "    \n",
    "    return d\n",
    "\n",
    "\n",
    "def euclidean():\n",
    "    return distance(2)\n",
    "\n",
    "\n",
    "class KMeanSPSS(object):\n",
    "    def __init__(self\n",
    "                 , n_cluster\n",
    "                 , metric='euclidean'\n",
    "                 , verbose=False\n",
    "                 , max_iteration=300\n",
    "                 , tolerance=1e-4\n",
    "                 , n_jobs=1\n",
    "                 , ):\n",
    "        self.__dict__.update(locals())\n",
    "        del self.self # We don't need this either\n",
    "        \n",
    "        self.labels = []\n",
    "        self.cluster_centers = []\n",
    "        self.sse = np.inf\n",
    "        \n",
    "        \n",
    "    def _log(self, message):\n",
    "        if self.verbose: print(message)\n",
    "    \n",
    "    \n",
    "    def _distance(self, X, Y):\n",
    "        return pairwise_distances(\n",
    "            X=X\n",
    "            , Y=Y\n",
    "            , metric=self.metric\n",
    "            , n_jobs=self.n_jobs)\n",
    "    \n",
    "    \n",
    "    def _distance_to_nearest_centoid(self, data):\n",
    "        distances = self._distance(data, self.cluster_centers)\n",
    "        \n",
    "        return distances.min(axis=1)\n",
    "    \n",
    "    \n",
    "    def _nearest_centoid(self, data):\n",
    "        distances = self._distance(data, self.cluster_centers)\n",
    "\n",
    "        return distances.argmin(axis=1)\n",
    "    \n",
    "    def _sum_square_error(self, data):\n",
    "        return np.sum(self._distance_to_nearest_centoid(data) ** 2)\n",
    "            \n",
    "    \n",
    "    def _init_clusters(self, data):\n",
    "        self._log(\"init clusters\")\n",
    "        m = data.shape[0]\n",
    "        average_cluster_size = int(m / self.n_cluster)\n",
    "        \n",
    "        # step 1 calculate distance matrix\n",
    "        dissimilarity = pairwise_distances(\n",
    "            data\n",
    "            , n_jobs=self.n_jobs\n",
    "            , metric=self.metric)\n",
    "        \n",
    "        # step 2 find sumv which sumv(i) in the sum of the distances \n",
    "        # from Xi point to all other points\n",
    "        sumv = dissimilarity.sum(axis=0)\n",
    "        \n",
    "        # step 3 find index h of minimim value of sumv\n",
    "        h_index = np.unravel_index(sumv.argmin(), sumv.shape)[0]\n",
    "        x_h = data[h_index]\n",
    "        \n",
    "        # step 4 Add Xh as the first centroid\n",
    "        self._log(f\" - First cluster center:{x_h}\")\n",
    "        self.cluster_centers = [x_h]\n",
    "        \n",
    "        selected_index = set([h_index])\n",
    "        \n",
    "        while len(self.cluster_centers) < self.n_cluster:\n",
    "            # step 5 calculate d(Xi) which is distance \n",
    "            # between Xi and nearest centroid\n",
    "            d = self._distance_to_nearest_centoid(data)\n",
    "            d2 = d ** 2\n",
    "            self._log(f\" - distance to nearest controid: {d}\")\n",
    "\n",
    "            # step 6 find y as th e sum of distances of \n",
    "            # first m/k nearest points from Xh\n",
    "            distance_from_xh = dissimilarity[h_index]\n",
    "            sorted_distance = np.sort(distance_from_xh)\n",
    "            y = np.sum(sorted_distance[:average_cluster_size])\n",
    "            self._log(f\" - y = {y}\")\n",
    "\n",
    "            # step 7-8 find i that satisfy \n",
    "            # d(X1)2+d(X2)2+...+d(Xi)2> = y>d(X1)2+d(X2)2+...+d(X(i-1))2\n",
    "            select_i = -1\n",
    "            self._log(f\" - Sum d = {np.sum(d ** 2)}\")\n",
    "            for i in range(m):\n",
    "                if np.sum(d2[:i]) >= y and y > np.sum(d2[:i-1]) and i not in selected_index:\n",
    "                    select_i = i\n",
    "                    selected_index.add(i)\n",
    "                    break\n",
    "                    \n",
    "            if select_i == -1:\n",
    "                raise Exception(\"Can't init cluster\")\n",
    "                \n",
    "            self._log(f\" - Next cluster index: {select_i}\")\n",
    "\n",
    "            # step 9 add Xi as new centroid\n",
    "            self.cluster_centers += [data[select_i]]\n",
    "        \n",
    "        self.cluster_centers = np.array(self.cluster_centers)\n",
    "        self._log(f\"end init clusters: {self.cluster_centers}\")\n",
    "    \n",
    "    \n",
    "    def _update_cost(self, old_cluster_centers, new_cluster_centers):\n",
    "        costs = self._distance(old_cluster_centers, new_cluster_centers)\n",
    "        costs = np.array([costs[i, i] for i in range(self.n_cluster)])\n",
    "        \n",
    "        return costs\n",
    "\n",
    "    \n",
    "    def _update_cluster_centers(self, data, new_labels):\n",
    "        old_cluster_centers = deepcopy(self.cluster_centers)\n",
    "        \n",
    "        new_cluster_centers = []\n",
    "        for label in range(self.n_cluster):\n",
    "            members = data[new_labels == label]\n",
    "            new_cluster_centers += [members.mean(axis=0)]\n",
    "        \n",
    "        self.cluster_centers = np.array(new_cluster_centers)\n",
    "        self.labels = self._nearest_centoid(data)\n",
    "        \n",
    "        costs = self._update_cost(old_cluster_centers, new_cluster_centers)\n",
    "        self._log(f\" - update costs: {costs}\")\n",
    "        \n",
    "        is_optimal = not np.any(costs > self.tolerance)\n",
    "        self._log(f\" - optimal: {is_optimal}\")\n",
    "        \n",
    "        return is_optimal\n",
    "    \n",
    "        \n",
    "    def fit(self, data):\n",
    "        self.labels = []\n",
    "        self.cluster_centers = []\n",
    "        \n",
    "        # convert pandas DataFrame to numpy ndarray\n",
    "        # for better performance\n",
    "        if type(data) is pd.DataFrame:\n",
    "            data = data.as_matrix()\n",
    "            \n",
    "        self._init_clusters(data)\n",
    "        \n",
    "        # start clustering\n",
    "        for it in range(self.max_iteration):\n",
    "            self._log(f\"iteration {it:4}\")\n",
    "            local_labels = self._nearest_centoid(data)\n",
    "            is_optimal = self._update_cluster_centers(data, local_labels)\n",
    "            \n",
    "            if is_optimal:\n",
    "                break\n",
    "                \n",
    "        self.sse = self._sum_square_error(data)\n",
    "                \n",
    "        return self\n",
    "    \n",
    "    \n",
    "    def predict(self, data):\n",
    "        return self._nearest_centoid(data)\n",
    "    \n",
    "    \n",
    "cluster = KMeanSPSS(n_cluster=2, metric='cosine', verbose=True).fit(df_clean)"
   ]
  },
  {
   "cell_type": "code",
   "execution_count": 7,
   "metadata": {},
   "outputs": [],
   "source": [
    "from sklearn.decomposition import PCA\n",
    "\n",
    "def plot3d(dataframe, labels):\n",
    "    unique_labels = np.unique(labels)\n",
    "    \n",
    "    pca = PCA(n_components=3)\n",
    "    df_reduced = pca.fit_transform(df_clean)\n",
    "    \n",
    "    plot_datas = []\n",
    "    for label in unique_labels:\n",
    "        local_data = df_reduced[labels==label]\n",
    "\n",
    "        plot_datas += [go.Scatter3d(\n",
    "            x=local_data[:,0],\n",
    "            y=local_data[:,1],\n",
    "            z=local_data[:,2],\n",
    "            mode='markers',\n",
    "            marker=dict(\n",
    "                size=6,\n",
    "                line=dict(\n",
    "                    color='rgba(217, 217, 217, 0.14)',\n",
    "                    width=0.05\n",
    "                ),\n",
    "                opacity=0.5\n",
    "            )\n",
    "        )]\n",
    "\n",
    "    layout = go.Layout(\n",
    "        margin=dict(\n",
    "            l=0,\n",
    "            r=0,\n",
    "            b=0,\n",
    "            t=0\n",
    "        )\n",
    "    )\n",
    "    \n",
    "    fig = go.Figure(data=plot_datas, layout=layout)\n",
    "    return py.iplot(fig, filename='simple-3d-scatter')"
   ]
  },
  {
   "cell_type": "code",
   "execution_count": 24,
   "metadata": {},
   "outputs": [
    {
     "name": "stdout",
     "output_type": "stream",
     "text": [
      "[[ 0.2569698   0.13692394 -0.43054671 -0.48780731 -0.21463    -0.17772481\n",
      "   0.13502955  0.09339413]\n",
      " [-3.84949937 -2.05116959  6.44974351  7.30752772  3.21523411  2.66238107\n",
      "  -2.02279082 -1.39907748]] 1003412.8312470393\n"
     ]
    },
    {
     "data": {
      "text/html": [
       "<iframe id=\"igraph\" scrolling=\"no\" style=\"border:none;\" seamless=\"seamless\" src=\"https://plot.ly/~chawasit/28.embed\" height=\"525px\" width=\"100%\"></iframe>"
      ],
      "text/plain": [
       "<plotly.tools.PlotlyDisplay object>"
      ]
     },
     "execution_count": 24,
     "metadata": {},
     "output_type": "execute_result"
    }
   ],
   "source": [
    "cluster = KMeanSPSS(n_cluster=2, metric='l1').fit(df_clean)\n",
    "print(cluster.cluster_centers, cluster.sse)\n",
    "plot3d(df_clean, cluster.labels)"
   ]
  },
  {
   "cell_type": "code",
   "execution_count": 22,
   "metadata": {},
   "outputs": [
    {
     "data": {
      "text/html": [
       "<iframe id=\"igraph\" scrolling=\"no\" style=\"border:none;\" seamless=\"seamless\" src=\"https://plot.ly/~chawasit/28.embed\" height=\"525px\" width=\"100%\"></iframe>"
      ],
      "text/plain": [
       "<plotly.tools.PlotlyDisplay object>"
      ]
     },
     "execution_count": 22,
     "metadata": {},
     "output_type": "execute_result"
    }
   ],
   "source": [
    "# cluster = KMeanSPSS(n_cluster=2, metric='cosine').fit(df_clean)\n",
    "# print(cluster.cluster_centers, cluster.sse)\n",
    "plot3d(df_clean, df['label'])"
   ]
  },
  {
   "cell_type": "code",
   "execution_count": 9,
   "metadata": {},
   "outputs": [
    {
     "name": "stdout",
     "output_type": "stream",
     "text": [
      "[[ 0.22283578  0.0599448  -0.40411507 -0.46547266 -0.55823084 -0.44192515\n",
      "   0.30837389  0.19962984]\n",
      " [-4.19910778 -2.4015702   7.37443427  8.81864408  3.32129474  2.63844385\n",
      "  -2.03706459 -1.40190052]\n",
      " [ 0.12247184  0.87385615 -0.06298056 -0.28709521  4.45182924  3.5182678\n",
      "  -2.32548016 -1.4504387 ]] 159566.9689922513\n"
     ]
    },
    {
     "data": {
      "text/html": [
       "<iframe id=\"igraph\" scrolling=\"no\" style=\"border:none;\" seamless=\"seamless\" src=\"https://plot.ly/~chawasit/28.embed\" height=\"525px\" width=\"100%\"></iframe>"
      ],
      "text/plain": [
       "<plotly.tools.PlotlyDisplay object>"
      ]
     },
     "execution_count": 9,
     "metadata": {},
     "output_type": "execute_result"
    }
   ],
   "source": [
    "cluster = KMeanSPSS(n_cluster=3).fit(df_clean)\n",
    "print(cluster.cluster_centers, cluster.sse)\n",
    "plot3d(df_clean, cluster.labels)"
   ]
  },
  {
   "cell_type": "code",
   "execution_count": 10,
   "metadata": {},
   "outputs": [
    {
     "name": "stdout",
     "output_type": "stream",
     "text": [
      "[[ 0.17876449  0.97060916 -0.11017991 -0.30799029  5.09865455  3.69179865\n",
      "  -2.41267117 -1.45782599]\n",
      " [ 0.15569894 -0.02767349 -0.40717838 -0.46918933 -0.70473631 -1.0134915\n",
      "   1.92002164  2.31218255]\n",
      " [ 0.23226182  0.08628805 -0.3914853  -0.45779903 -0.49619366 -0.24366089\n",
      "  -0.1514154  -0.38376365]\n",
      " [-4.20504722 -2.40462098  7.39557354  8.85350582  3.31654067  2.65099245\n",
      "  -2.04103815 -1.40374925]] 127835.46087666905\n"
     ]
    },
    {
     "data": {
      "text/html": [
       "<iframe id=\"igraph\" scrolling=\"no\" style=\"border:none;\" seamless=\"seamless\" src=\"https://plot.ly/~chawasit/28.embed\" height=\"525px\" width=\"100%\"></iframe>"
      ],
      "text/plain": [
       "<plotly.tools.PlotlyDisplay object>"
      ]
     },
     "execution_count": 10,
     "metadata": {},
     "output_type": "execute_result"
    }
   ],
   "source": [
    "cluster = KMeanSPSS(n_cluster=4).fit(df_clean)\n",
    "print(cluster.cluster_centers, cluster.sse)\n",
    "plot3d(df_clean, cluster.labels)"
   ]
  },
  {
   "cell_type": "code",
   "execution_count": 11,
   "metadata": {},
   "outputs": [
    {
     "name": "stdout",
     "output_type": "stream",
     "text": [
      "2 220087.61926540302\n",
      "3 159566.9689922513\n",
      "4 127835.46087666905\n",
      "5 cant init cluster\n",
      "6 cant init cluster\n",
      "7 cant init cluster\n",
      "8 cant init cluster\n",
      "9 cant init cluster\n",
      "10 cant init cluster\n"
     ]
    }
   ],
   "source": [
    "for k in range(2, 11):\n",
    "    try:\n",
    "        cluster = KMeanSPSS(n_cluster=k, verbose=False).fit(df_clean)\n",
    "        print(k, cluster.sse)\n",
    "    except:\n",
    "        print(k, \"cant init cluster\")"
   ]
  },
  {
   "cell_type": "code",
   "execution_count": 12,
   "metadata": {},
   "outputs": [
    {
     "name": "stdout",
     "output_type": "stream",
     "text": [
      "1\n"
     ]
    }
   ],
   "source": [
    "print(1)"
   ]
  }
 ],
 "metadata": {
  "kernelspec": {
   "display_name": "Python 3",
   "language": "python",
   "name": "python3"
  },
  "language_info": {
   "codemirror_mode": {
    "name": "ipython",
    "version": 3
   },
   "file_extension": ".py",
   "mimetype": "text/x-python",
   "name": "python",
   "nbconvert_exporter": "python",
   "pygments_lexer": "ipython3",
   "version": "3.6.5"
  }
 },
 "nbformat": 4,
 "nbformat_minor": 2
}
